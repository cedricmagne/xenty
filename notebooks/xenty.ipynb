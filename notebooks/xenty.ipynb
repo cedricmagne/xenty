{
 "cells": [
  {
   "cell_type": "markdown",
   "id": "ae287196",
   "metadata": {},
   "source": [
    "# Importer les bibliothèques nécessaires"
   ]
  },
  {
   "cell_type": "code",
   "execution_count": 7,
   "id": "55572204",
   "metadata": {},
   "outputs": [],
   "source": [
    "import sqlite3\n",
    "import pandas as pd\n",
    "import json"
   ]
  },
  {
   "cell_type": "markdown",
   "id": "97af9abb",
   "metadata": {},
   "source": [
    "# Charger les données d'une table en DataFrame"
   ]
  },
  {
   "cell_type": "code",
   "execution_count": 3,
   "id": "d88e532c",
   "metadata": {},
   "outputs": [],
   "source": [
    "# Connexion à la base de données SQLite\n",
    "conn = sqlite3.connect('cryptocurrency_dataset.db')\n",
    "\n",
    "query = \"SELECT * FROM cryptocurrencies\"\n",
    "df = pd.read_sql_query(query, conn)\n",
    "\n",
    "# Fermer la connexion\n",
    "conn.close()"
   ]
  },
  {
   "cell_type": "markdown",
   "id": "2bd344ff",
   "metadata": {},
   "source": [
    "# Afficher les premières lignes du DataFrame"
   ]
  },
  {
   "cell_type": "code",
   "execution_count": 6,
   "id": "384caa5a",
   "metadata": {},
   "outputs": [
    {
     "data": {
      "text/html": [
       "<div>\n",
       "<style scoped>\n",
       "    .dataframe tbody tr th:only-of-type {\n",
       "        vertical-align: middle;\n",
       "    }\n",
       "\n",
       "    .dataframe tbody tr th {\n",
       "        vertical-align: top;\n",
       "    }\n",
       "\n",
       "    .dataframe thead th {\n",
       "        text-align: right;\n",
       "    }\n",
       "</style>\n",
       "<table border=\"1\" class=\"dataframe\">\n",
       "  <thead>\n",
       "    <tr style=\"text-align: right;\">\n",
       "      <th></th>\n",
       "      <th>id</th>\n",
       "      <th>name</th>\n",
       "      <th>symbol</th>\n",
       "      <th>slug</th>\n",
       "      <th>description</th>\n",
       "      <th>logo</th>\n",
       "      <th>date_launched</th>\n",
       "      <th>category</th>\n",
       "      <th>tags</th>\n",
       "      <th>platform</th>\n",
       "      <th>twitter_url</th>\n",
       "      <th>created_at</th>\n",
       "      <th>coingecko_id</th>\n",
       "    </tr>\n",
       "  </thead>\n",
       "  <tbody>\n",
       "    <tr>\n",
       "      <th>0</th>\n",
       "      <td>1</td>\n",
       "      <td>Bitcoin</td>\n",
       "      <td>BTC</td>\n",
       "      <td>bitcoin</td>\n",
       "      <td>Bitcoin (BTC) is a cryptocurrency launched in ...</td>\n",
       "      <td>https://s2.coinmarketcap.com/static/img/coins/...</td>\n",
       "      <td>2010-07-13T00:00:00.000Z</td>\n",
       "      <td>coin</td>\n",
       "      <td>[\"mineable\", \"pow\", \"sha-256\", \"store-of-value...</td>\n",
       "      <td>null</td>\n",
       "      <td>https://x.com/bitcoin</td>\n",
       "      <td>2025-06-19 10:56:28</td>\n",
       "      <td>bitcoin</td>\n",
       "    </tr>\n",
       "    <tr>\n",
       "      <th>1</th>\n",
       "      <td>2</td>\n",
       "      <td>Litecoin</td>\n",
       "      <td>LTC</td>\n",
       "      <td>litecoin</td>\n",
       "      <td>Litecoin (LTC) is a cryptocurrency . Users are...</td>\n",
       "      <td>https://s2.coinmarketcap.com/static/img/coins/...</td>\n",
       "      <td>None</td>\n",
       "      <td>coin</td>\n",
       "      <td>[\"mineable\", \"pow\", \"scrypt\", \"medium-of-excha...</td>\n",
       "      <td>{\"id\": \"2502\", \"name\": \"Huobi Token\", \"slug\": ...</td>\n",
       "      <td>https://x.com/litecoin</td>\n",
       "      <td>2025-06-19 10:56:28</td>\n",
       "      <td>litecoin</td>\n",
       "    </tr>\n",
       "    <tr>\n",
       "      <th>2</th>\n",
       "      <td>3</td>\n",
       "      <td>Namecoin</td>\n",
       "      <td>NMC</td>\n",
       "      <td>namecoin</td>\n",
       "      <td>Namecoin (NMC) is a cryptocurrency . Users are...</td>\n",
       "      <td>https://s2.coinmarketcap.com/static/img/coins/...</td>\n",
       "      <td>None</td>\n",
       "      <td>coin</td>\n",
       "      <td>[\"mineable\", \"pow\", \"sha-256\", \"platform\"]</td>\n",
       "      <td>null</td>\n",
       "      <td>https://x.com/Namecoin</td>\n",
       "      <td>2025-06-19 10:56:28</td>\n",
       "      <td>namecoin</td>\n",
       "    </tr>\n",
       "    <tr>\n",
       "      <th>3</th>\n",
       "      <td>4</td>\n",
       "      <td>Terracoin</td>\n",
       "      <td>TRC</td>\n",
       "      <td>terracoin</td>\n",
       "      <td>Terracoin (TRC) is a cryptocurrency launched i...</td>\n",
       "      <td>https://s2.coinmarketcap.com/static/img/coins/...</td>\n",
       "      <td>2012-10-26T00:00:00.000Z</td>\n",
       "      <td>coin</td>\n",
       "      <td>[\"mineable\", \"pow\", \"sha-256\", \"masternodes\"]</td>\n",
       "      <td>null</td>\n",
       "      <td>https://x.com/Terracoin_TRC</td>\n",
       "      <td>2025-06-19 15:30:01</td>\n",
       "      <td>terracoin</td>\n",
       "    </tr>\n",
       "    <tr>\n",
       "      <th>4</th>\n",
       "      <td>5</td>\n",
       "      <td>Peercoin</td>\n",
       "      <td>PPC</td>\n",
       "      <td>peercoin</td>\n",
       "      <td>Peercoin (PPC) is a cryptocurrency . Users are...</td>\n",
       "      <td>https://s2.coinmarketcap.com/static/img/coins/...</td>\n",
       "      <td>None</td>\n",
       "      <td>coin</td>\n",
       "      <td>[\"mineable\", \"hybrid-pow-pos\", \"sha-256\", \"med...</td>\n",
       "      <td>{\"id\": \"1027\", \"name\": \"Ethereum\", \"slug\": \"et...</td>\n",
       "      <td>https://x.com/PeercoinPPC</td>\n",
       "      <td>2025-06-19 10:56:28</td>\n",
       "      <td>peercoin</td>\n",
       "    </tr>\n",
       "  </tbody>\n",
       "</table>\n",
       "</div>"
      ],
      "text/plain": [
       "   id       name symbol       slug  \\\n",
       "0   1    Bitcoin    BTC    bitcoin   \n",
       "1   2   Litecoin    LTC   litecoin   \n",
       "2   3   Namecoin    NMC   namecoin   \n",
       "3   4  Terracoin    TRC  terracoin   \n",
       "4   5   Peercoin    PPC   peercoin   \n",
       "\n",
       "                                         description  \\\n",
       "0  Bitcoin (BTC) is a cryptocurrency launched in ...   \n",
       "1  Litecoin (LTC) is a cryptocurrency . Users are...   \n",
       "2  Namecoin (NMC) is a cryptocurrency . Users are...   \n",
       "3  Terracoin (TRC) is a cryptocurrency launched i...   \n",
       "4  Peercoin (PPC) is a cryptocurrency . Users are...   \n",
       "\n",
       "                                                logo  \\\n",
       "0  https://s2.coinmarketcap.com/static/img/coins/...   \n",
       "1  https://s2.coinmarketcap.com/static/img/coins/...   \n",
       "2  https://s2.coinmarketcap.com/static/img/coins/...   \n",
       "3  https://s2.coinmarketcap.com/static/img/coins/...   \n",
       "4  https://s2.coinmarketcap.com/static/img/coins/...   \n",
       "\n",
       "              date_launched category  \\\n",
       "0  2010-07-13T00:00:00.000Z     coin   \n",
       "1                      None     coin   \n",
       "2                      None     coin   \n",
       "3  2012-10-26T00:00:00.000Z     coin   \n",
       "4                      None     coin   \n",
       "\n",
       "                                                tags  \\\n",
       "0  [\"mineable\", \"pow\", \"sha-256\", \"store-of-value...   \n",
       "1  [\"mineable\", \"pow\", \"scrypt\", \"medium-of-excha...   \n",
       "2         [\"mineable\", \"pow\", \"sha-256\", \"platform\"]   \n",
       "3      [\"mineable\", \"pow\", \"sha-256\", \"masternodes\"]   \n",
       "4  [\"mineable\", \"hybrid-pow-pos\", \"sha-256\", \"med...   \n",
       "\n",
       "                                            platform  \\\n",
       "0                                               null   \n",
       "1  {\"id\": \"2502\", \"name\": \"Huobi Token\", \"slug\": ...   \n",
       "2                                               null   \n",
       "3                                               null   \n",
       "4  {\"id\": \"1027\", \"name\": \"Ethereum\", \"slug\": \"et...   \n",
       "\n",
       "                   twitter_url           created_at coingecko_id  \n",
       "0        https://x.com/bitcoin  2025-06-19 10:56:28      bitcoin  \n",
       "1       https://x.com/litecoin  2025-06-19 10:56:28     litecoin  \n",
       "2       https://x.com/Namecoin  2025-06-19 10:56:28     namecoin  \n",
       "3  https://x.com/Terracoin_TRC  2025-06-19 15:30:01    terracoin  \n",
       "4    https://x.com/PeercoinPPC  2025-06-19 10:56:28     peercoin  "
      ]
     },
     "execution_count": 6,
     "metadata": {},
     "output_type": "execute_result"
    }
   ],
   "source": [
    "df.head()"
   ]
  },
  {
   "cell_type": "markdown",
   "id": "7d0f3a5c",
   "metadata": {},
   "source": [
    "# Afficher les informations sur le DataFrame"
   ]
  },
  {
   "cell_type": "code",
   "execution_count": 7,
   "id": "8d559503",
   "metadata": {},
   "outputs": [
    {
     "name": "stdout",
     "output_type": "stream",
     "text": [
      "<class 'pandas.core.frame.DataFrame'>\n",
      "RangeIndex: 9545 entries, 0 to 9544\n",
      "Data columns (total 13 columns):\n",
      " #   Column         Non-Null Count  Dtype \n",
      "---  ------         --------------  ----- \n",
      " 0   id             9545 non-null   int64 \n",
      " 1   name           9545 non-null   object\n",
      " 2   symbol         9545 non-null   object\n",
      " 3   slug           9545 non-null   object\n",
      " 4   description    9545 non-null   object\n",
      " 5   logo           9545 non-null   object\n",
      " 6   date_launched  7497 non-null   object\n",
      " 7   category       9545 non-null   object\n",
      " 8   tags           9545 non-null   object\n",
      " 9   platform       9545 non-null   object\n",
      " 10  twitter_url    9401 non-null   object\n",
      " 11  created_at     9545 non-null   object\n",
      " 12  coingecko_id   5556 non-null   object\n",
      "dtypes: int64(1), object(12)\n",
      "memory usage: 969.5+ KB\n"
     ]
    }
   ],
   "source": [
    "df.info()"
   ]
  },
  {
   "cell_type": "markdown",
   "id": "d9ad6d83",
   "metadata": {},
   "source": [
    "# Sélectionner seulement certaines colonnes (par exemple name et symbol) où coingecko_id est null"
   ]
  },
  {
   "cell_type": "code",
   "execution_count": 22,
   "id": "38807d66",
   "metadata": {},
   "outputs": [
    {
     "data": {
      "text/html": [
       "<div>\n",
       "<style scoped>\n",
       "    .dataframe tbody tr th:only-of-type {\n",
       "        vertical-align: middle;\n",
       "    }\n",
       "\n",
       "    .dataframe tbody tr th {\n",
       "        vertical-align: top;\n",
       "    }\n",
       "\n",
       "    .dataframe thead th {\n",
       "        text-align: right;\n",
       "    }\n",
       "</style>\n",
       "<table border=\"1\" class=\"dataframe\">\n",
       "  <thead>\n",
       "    <tr style=\"text-align: right;\">\n",
       "      <th></th>\n",
       "      <th>name</th>\n",
       "      <th>symbol</th>\n",
       "    </tr>\n",
       "  </thead>\n",
       "  <tbody>\n",
       "    <tr>\n",
       "      <th>9</th>\n",
       "      <td>WorldCoin WDC</td>\n",
       "      <td>WDC</td>\n",
       "    </tr>\n",
       "    <tr>\n",
       "      <th>45</th>\n",
       "      <td>PLNcoin</td>\n",
       "      <td>PLNC</td>\n",
       "    </tr>\n",
       "    <tr>\n",
       "      <th>54</th>\n",
       "      <td>Motocoin</td>\n",
       "      <td>MOTO</td>\n",
       "    </tr>\n",
       "    <tr>\n",
       "      <th>85</th>\n",
       "      <td>PayCoin</td>\n",
       "      <td>XPY</td>\n",
       "    </tr>\n",
       "    <tr>\n",
       "      <th>96</th>\n",
       "      <td>Californium</td>\n",
       "      <td>CF</td>\n",
       "    </tr>\n",
       "    <tr>\n",
       "      <th>...</th>\n",
       "      <td>...</td>\n",
       "      <td>...</td>\n",
       "    </tr>\n",
       "    <tr>\n",
       "      <th>9117</th>\n",
       "      <td>Wizard Gang</td>\n",
       "      <td>WIZARD</td>\n",
       "    </tr>\n",
       "    <tr>\n",
       "      <th>9190</th>\n",
       "      <td>Pope meme</td>\n",
       "      <td>POPE</td>\n",
       "    </tr>\n",
       "    <tr>\n",
       "      <th>9258</th>\n",
       "      <td>gooncoin</td>\n",
       "      <td>GOONC</td>\n",
       "    </tr>\n",
       "    <tr>\n",
       "      <th>9394</th>\n",
       "      <td>Ecorpay Token</td>\n",
       "      <td>ECOR</td>\n",
       "    </tr>\n",
       "    <tr>\n",
       "      <th>9499</th>\n",
       "      <td>Causecoin</td>\n",
       "      <td>CAUSE</td>\n",
       "    </tr>\n",
       "  </tbody>\n",
       "</table>\n",
       "<p>144 rows × 2 columns</p>\n",
       "</div>"
      ],
      "text/plain": [
       "               name  symbol\n",
       "9     WorldCoin WDC     WDC\n",
       "45          PLNcoin    PLNC\n",
       "54         Motocoin    MOTO\n",
       "85          PayCoin     XPY\n",
       "96      Californium      CF\n",
       "...             ...     ...\n",
       "9117    Wizard Gang  WIZARD\n",
       "9190      Pope meme    POPE\n",
       "9258       gooncoin   GOONC\n",
       "9394  Ecorpay Token    ECOR\n",
       "9499      Causecoin   CAUSE\n",
       "\n",
       "[144 rows x 2 columns]"
      ]
     },
     "execution_count": 22,
     "metadata": {},
     "output_type": "execute_result"
    }
   ],
   "source": [
    "selected_columns = df.loc[df['twitter_url'].isnull(), ['name', 'symbol']]\n",
    "selected_columns"
   ]
  },
  {
   "cell_type": "markdown",
   "id": "0b8c2ad6",
   "metadata": {},
   "source": [
    "# Pour accéder à un attribut spécifique d'une variable JSON, par exemple 'token_address'"
   ]
  },
  {
   "cell_type": "code",
   "execution_count": 23,
   "id": "8a5da4ec",
   "metadata": {},
   "outputs": [
    {
     "data": {
      "text/plain": [
       "8309    0xfbf174090b3cc8ebb9f39b697035a54c5c45b4d6\n",
       "Name: platform, dtype: object"
      ]
     },
     "execution_count": 23,
     "metadata": {},
     "output_type": "execute_result"
    }
   ],
   "source": [
    "# Pour extraire un attribut spécifique pour toutes les lignes\n",
    "token_address = df.loc[df['slug'] == 'pom', 'platform'].apply(\n",
    "    lambda x: json.loads(x).get('token_address') if isinstance(x, str) else x.get('token_address')\n",
    ")\n",
    "\n",
    "#if isinstance(json_data, str):\n",
    "#json_data = json.loads(json_data['platform'])\n",
    "#token_address = json_data.get('token_address')\n",
    "token_address"
   ]
  }
 ],
 "metadata": {
  "kernelspec": {
   "display_name": ".venv",
   "language": "python",
   "name": "python3"
  },
  "language_info": {
   "codemirror_mode": {
    "name": "ipython",
    "version": 3
   },
   "file_extension": ".py",
   "mimetype": "text/x-python",
   "name": "python",
   "nbconvert_exporter": "python",
   "pygments_lexer": "ipython3",
   "version": "3.12.10"
  }
 },
 "nbformat": 4,
 "nbformat_minor": 5
}
